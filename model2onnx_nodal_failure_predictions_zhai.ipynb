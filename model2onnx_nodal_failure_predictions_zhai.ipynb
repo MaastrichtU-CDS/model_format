{
 "cells": [
  {
   "cell_type": "code",
   "execution_count": 1,
   "metadata": {},
   "outputs": [
    {
     "name": "stdout",
     "output_type": "stream",
     "text": [
      "Clinical Score: 4.01\n",
      "Radiomic Score: 3.83\n",
      "Combined Score: 6.05\n"
     ]
    }
   ],
   "source": [
    "import numpy as np\n",
    "from sklearn.linear_model import LinearRegression\n",
    "\n",
    "def calculate_clinical_score(gender, t_stage, n_stage, who_ps):\n",
    "    return (2.08 * gender + 1.08 * t_stage + 0.85 * n_stage + 0.78 * who_ps)\n",
    "\n",
    "def calculate_radiomic_score(lalln, corre_glcm):\n",
    "    return (0.78 * lalln + 3.14 * corre_glcm)\n",
    "\n",
    "def calculate_combined_score(gender, t_stage, who_ps, lalln, corre_glcm):\n",
    "    return (1.88 * gender + 0.93 * t_stage + 0.91 * who_ps + 0.71 * lalln + 2.44 * corre_glcm)\n",
    "\n",
    "# Example for a single patient\n",
    "gender = 1  # 1 for male, 0 for female\n",
    "t_stage = 1  # 1 for T3-T4, 0 for T1-T2\n",
    "n_stage = 1  # 1 for N2-N3, 0 for N1\n",
    "who_ps = 0  # 1 for WHO PS 1-3, 0 for WHO PS 0\n",
    "lalln = 2.5  # example value in cm\n",
    "corre_glcm = 0.6  # example value\n",
    "\n",
    "clinical_score = calculate_clinical_score(gender, t_stage, n_stage, who_ps)\n",
    "radiomic_score = calculate_radiomic_score(lalln, corre_glcm)\n",
    "combined_score = calculate_combined_score(gender, t_stage, who_ps, lalln, corre_glcm)\n",
    "\n",
    "print(f\"Clinical Score: {clinical_score:.2f}\")\n",
    "print(f\"Radiomic Score: {radiomic_score:.2f}\")\n",
    "print(f\"Combined Score: {combined_score:.2f}\")\n"
   ]
  }
 ],
 "metadata": {
  "kernelspec": {
   "display_name": "Python 3",
   "language": "python",
   "name": "python3"
  },
  "language_info": {
   "codemirror_mode": {
    "name": "ipython",
    "version": 3
   },
   "file_extension": ".py",
   "mimetype": "text/x-python",
   "name": "python",
   "nbconvert_exporter": "python",
   "pygments_lexer": "ipython3",
   "version": "3.11.4"
  }
 },
 "nbformat": 4,
 "nbformat_minor": 2
}
