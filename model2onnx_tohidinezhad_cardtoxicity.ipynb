{
 "cells": [
  {
   "cell_type": "code",
   "execution_count": 130,
   "metadata": {
    "colab": {
     "base_uri": "https://localhost:8080/"
    },
    "id": "0ATWQ-zCQ3jH",
    "outputId": "69414cc8-e4f6-4a2e-bbb2-1084a032840a"
   },
   "outputs": [],
   "source": [
    "#from sklearn.linear_model import LogisticRegression\n",
    "import numpy as np\n",
    "import pandas as pd\n",
    "import math\n",
    "import json\n",
    "\n",
    "#from skl2onnx.common.data_types import FloatTensorType, Int64TensorType\n",
    "\n",
    "# Define intercept and coefficients\n",
    "# from predict.crr() R function Package 'cmprsk'\n",
    "bfitj_array=[0.00332148046796498, 0.00704252318188995, 0.00680807619210244, 0.0031499383078194, 0.00484916989995649, 0.00341262479774758, 0.00494599020759115\t,0.00296349943121998\t,0.00345366709214391\t,0.00362648429291061\t,0.00418264710845545\t,0.00302764782129292\t,0.000887856938295995\t,0.00365583200055486\t,0.00240905678629641\t,0.00500582322280056\t,0.0015689443672039\t,0.00371440727883678\t,0.00278396258514993\t,0.00230551534195185\t,0.00178567396713869\t,0.00187118290948318\t,0.000658830383426973\t,0.00267463575367071\t,0.00208614130013182\t,0.00287334782786033\t,0.00223723081752879\t,0.00383392730297976\t,0.00235998328142089\t,0.00326304981299299\t,0.000864038793188006\t,0.00179110720667369\t,0.0038011665601519\t,0.00202847820989097\t,0.00211095773600686\t,0.00109268863820134\t,0.00233885619214348\t,0.00121972074648294\t,0.001293411808873\t,0.00136664839834629\t,0.00146705295510893\t,0.00157655765592158\t,0.00181300856186351\t,0.00185287095288774\t,0.0019564565695927\t,0.00205558204156154\t,0.00231505681797333\t,0.00287871156288563]\n"
   ]
  },
  {
   "cell_type": "code",
   "execution_count": 132,
   "metadata": {},
   "outputs": [],
   "source": [
    "# Example of input data in dictionary format\n",
    "# Age - Age at radotherapy: should be numerical value in years\n",
    "# BMI - Body Mass Index: categorical value (Normal/Underweight/Overweight/Obese)\n",
    "# Cardiac diseases - Yes/No (arrhythmia, myocardial infarction and coronary artery diseases)\n",
    "# Vascular diseases - Yes/No\n",
    "# Pacemaker/defibrillator - Yes/No\n",
    "# Chemotherapy - Chemotherapy agents: Cisplatin-etoposide/ Carboplatin-etoposide /Other / None\n",
    "# QRS interval - baseline electrocardiographical parameter, should be numerical value in ms. Normal 80-100, Short < 80, prolonged > 100\n",
    "# Heart Volume - numerical parameter in cc. The used threshold - 792 cc\n",
    "# Right lung volume - numerical parameter in cc. The used threshold -  2161 cc\n",
    "# Left atrium Dmax - Maximum dose in Gy in left atrium. The used threshold -  63 Gy\n",
    "# Esophagus - Percentage of esophagus receiving at least 20 Gy. The used threshold - 1%\n",
    "# Left lung Dmax - Maximum dose in Gy in left lung. The used threshold -  6 Gy\n",
    " \n",
    "\n",
    "input_dict={'Age':75, 'BMI':'Normal', 'Cardiac diseases':'Yes','Vascular diseases': 'No', 'Pacemaker/defibrillator': 'No', \n",
    "'Chemotherapy':'None', 'QRS interval':115, 'Heart Volume':795, 'Right lung volume':2200,'Left atrium Dmax':65,\n",
    "'Esophagus':2, 'Left lung Dmax':6}\n",
    " \n",
    "# Serializing json\n",
    "json_object = json.dumps(input_dict, indent=len(input_dict))\n",
    "\n",
    "# Writing to input.json\n",
    "with open(\"input.json\", \"w\") as outfile:\n",
    "    outfile.write(json_object)"
   ]
  },
  {
   "cell_type": "code",
   "execution_count": 136,
   "metadata": {},
   "outputs": [
    {
     "name": "stdout",
     "output_type": "stream",
     "text": [
      "{'Age': 75, 'BMI': 'Normal', 'Cardiac diseases': 'Yes', 'Vascular diseases': 'No', 'Pacemaker/defibrillator': 'No', 'Chemotherapy': 'None', 'QRS interval': 115, 'Heart Volume': 795, 'Right lung volume': 2200, 'Left atrium Dmax': 65, 'Esophagus': 2, 'Left lung Dmax': 6}\n"
     ]
    }
   ],
   "source": [
    "with open('input.json', 'r') as openfile:\n",
    " \n",
    "    # Reading from json file\n",
    "    input = json.load(openfile)\n",
    " \n",
    "print(input)"
   ]
  },
  {
   "cell_type": "code",
   "execution_count": 138,
   "metadata": {},
   "outputs": [
    {
     "name": "stdout",
     "output_type": "stream",
     "text": [
      "Probability of 5-year Cardiac Toxicity: 0.733\n"
     ]
    }
   ],
   "source": [
    "def prob_card_tox(input_dict):\n",
    "    LB=0\n",
    "    for i in input_dict:\n",
    "        if i=='Age' and input_dict[i]>70:\n",
    "            LB=LB+0.27927258\n",
    "        if i=='BMI' and input_dict[i]=='Underweight':\n",
    "            LB=LB+0.93495631\n",
    "        if i=='BMI' and input_dict[i]=='Overweight':\n",
    "            LB=LB+(-0.07729853)\n",
    "        if i=='BMI' and input_dict[i]=='Obese':\n",
    "            LB=LB+(-0.1610674)\n",
    "        if i=='Cardiac diseases' and input_dict[i]=='Yes':\n",
    "            LB=LB +0.41476678\n",
    "        if i=='Vascular diseases' and input_dict[i]=='Yes':\n",
    "            LB=LB +0.31604012\n",
    "        if i=='Pacemaker/defibrillator' and input_dict[i]=='Yes':\n",
    "            LB=LB +0.69627766\n",
    "        if i=='Chemotherapy' and input_dict[i]=='Cisplatin-etoposide':\n",
    "            LB=LB +0.14794705       \n",
    "        if i=='Chemotherapy' and input_dict[i]=='Carboplatin-etoposide':\n",
    "            LB=LB +0.44799406\n",
    "        if i=='Chemotherapy' and input_dict[i]=='Other':\n",
    "            LB=LB +(-0.10023631)\n",
    "        if i=='QRS interval' and input_dict[i]<80:\n",
    "            LB=LB +(-0.12952556)\n",
    "        if i=='QRS interval' and input_dict[i]>100:\n",
    "            LB=LB +0.3148878\n",
    "        if i=='Heart Volume' and input_dict[i]>=792:\n",
    "            LB=LB +0.41634732\n",
    "        if i=='Right lung volume' and input_dict[i]<2161:\n",
    "            LB=LB +0.35404859\n",
    "        if i=='Left atrium Dmax' and input_dict[i]>=63:\n",
    "            LB=LB +0.49512383\n",
    "        if i=='Esophagus' and input_dict[i]>=1:\n",
    "            LB=LB +0.39459581\n",
    "        if i=='Left lung Dmax' and input_dict[i]<6:\n",
    "            LB=LB +0.6001245\n",
    "             \n",
    "    prob=1-math.exp(-np.sum(np.multiply(bfitj_array,math.exp(LB))))\n",
    "    return prob\n",
    "# Return the predicted probability\n",
    "print(f'Probability of 5-year Cardiac Toxicity: {prob_card_tox(input) :.3f}')"
   ]
  },
  {
   "cell_type": "code",
   "execution_count": null,
   "metadata": {},
   "outputs": [],
   "source": []
  }
 ],
 "metadata": {
  "colab": {
   "provenance": []
  },
  "kernelspec": {
   "display_name": "ONNX_try",
   "language": "python",
   "name": "onnx_try"
  },
  "language_info": {
   "codemirror_mode": {
    "name": "ipython",
    "version": 3
   },
   "file_extension": ".py",
   "mimetype": "text/x-python",
   "name": "python",
   "nbconvert_exporter": "python",
   "pygments_lexer": "ipython3",
   "version": "3.11.9"
  }
 },
 "nbformat": 4,
 "nbformat_minor": 4
}
