{
 "cells": [
  {
   "cell_type": "code",
   "execution_count": 1,
   "metadata": {},
   "outputs": [
    {
     "name": "stdout",
     "output_type": "stream",
     "text": [
      "Input 1: Prediction: Dead\n",
      "Input 2: Prediction: Dead\n",
      "Input 3: Prediction: Survival\n",
      "Input 4: Prediction: Dead\n",
      "Input 5: Prediction: Survival\n",
      "Input 6: Prediction: Survival\n",
      "Input 7: Prediction: Dead\n",
      "Input 8: Prediction: Survival\n",
      "Input 9: Prediction: Survival\n",
      "Input 10: Prediction: Dead\n",
      "Input 11: Prediction: Dead\n"
     ]
    }
   ],
   "source": [
    "import numpy as np\n",
    "import json\n",
    "\n",
    "class SimpleDecisionTreeClassifier:\n",
    "    def __init__(self, children_left, children_right, feature, threshold, value, impurity, weighted_n_node_samples, n_node_samples):\n",
    "        self.children_left = children_left\n",
    "        self.children_right = children_right\n",
    "        self.feature = feature\n",
    "        self.threshold = threshold\n",
    "        self.value = value\n",
    "        self.impurity = impurity\n",
    "        self.weighted_n_node_samples = weighted_n_node_samples\n",
    "        self.n_node_samples = n_node_samples\n",
    "\n",
    "    def _predict_node(self, sample, node):\n",
    "        while True:\n",
    "            if self.feature[node] == -1:  # Leaf node\n",
    "                return np.argmax(self.value[node])\n",
    "            if sample[self.feature[node]] <= self.threshold[node]:\n",
    "                node = self.children_left[node]\n",
    "            else:\n",
    "                node = self.children_right[node]\n",
    "\n",
    "    def predict(self, X):\n",
    "        return np.array([self._predict_node(sample, 0) for sample in X])\n",
    "\n",
    "# Load the JSON file\n",
    "with open('decision_tree.json', 'r') as file:\n",
    "    data = json.load(file)\n",
    "\n",
    "# Extract the tree structure from the JSON data\n",
    "children_left = np.array(data['tree_structure']['children_left'])\n",
    "children_right = np.array(data['tree_structure']['children_right'])\n",
    "feature = np.array(data['tree_structure']['feature'])\n",
    "threshold = np.array(data['tree_structure']['threshold'])\n",
    "value = np.array(data['tree_structure']['value'])\n",
    "impurity = np.array(data['tree_structure']['impurity'])\n",
    "weighted_n_node_samples = np.array(data['tree_structure']['weighted_n_node_samples'])\n",
    "n_node_samples = np.array(data['tree_structure']['n_node_samples'])\n",
    "\n",
    "# Create the decision tree classifier\n",
    "clf = SimpleDecisionTreeClassifier(\n",
    "    children_left, children_right, feature, threshold, value, impurity, weighted_n_node_samples, n_node_samples\n",
    ")\n",
    "\n",
    "# Define the feature and class names\n",
    "feature_names = data['feature_names']\n",
    "class_names = data['class_names']\n",
    "\n",
    "# Extract input parameters for prediction\n",
    "input_parameters = np.array(data['input_parameters'])\n",
    "\n",
    "# Predict the class\n",
    "predictions = clf.predict(input_parameters)\n",
    "predicted_classes = [class_names[prediction] for prediction in predictions]\n",
    "\n",
    "# Print the predictions\n",
    "for i, prediction in enumerate(predicted_classes):\n",
    "    print(f\"Input {i + 1}: Prediction: {prediction}\")\n"
   ]
  }
 ],
 "metadata": {
  "kernelspec": {
   "display_name": "Python 3",
   "language": "python",
   "name": "python3"
  },
  "language_info": {
   "codemirror_mode": {
    "name": "ipython",
    "version": 3
   },
   "file_extension": ".py",
   "mimetype": "text/x-python",
   "name": "python",
   "nbconvert_exporter": "python",
   "pygments_lexer": "ipython3",
   "version": "3.11.4"
  }
 },
 "nbformat": 4,
 "nbformat_minor": 2
}
