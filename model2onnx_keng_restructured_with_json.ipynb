{
 "cells": [
  {
   "cell_type": "code",
   "execution_count": 2,
   "metadata": {},
   "outputs": [
    {
     "name": "stdout",
     "output_type": "stream",
     "text": [
      "Prediction: Dead\n"
     ]
    }
   ],
   "source": [
    "import numpy as np\n",
    "import json\n",
    "\n",
    "class SimpleDecisionTreeClassifier:\n",
    "    def __init__(self, children_left, children_right, feature, threshold, value, impurity, weighted_n_node_samples, n_node_samples):\n",
    "        self.children_left = children_left\n",
    "        self.children_right = children_right\n",
    "        self.feature = feature\n",
    "        self.threshold = threshold\n",
    "        self.value = value\n",
    "        self.impurity = impurity\n",
    "        self.weighted_n_node_samples = weighted_n_node_samples\n",
    "        self.n_node_samples = n_node_samples\n",
    "\n",
    "    def _predict_node(self, sample, node):\n",
    "        while True:\n",
    "            if self.feature[node] == -1:  # Leaf node\n",
    "                return np.argmax(self.value[node])\n",
    "            if sample[self.feature[node]] <= self.threshold[node]:\n",
    "                node = self.children_left[node]\n",
    "            else:\n",
    "                node = self.children_right[node]\n",
    "\n",
    "    def predict(self, X):\n",
    "        return np.array([self._predict_node(sample, 0) for sample in X])\n",
    "\n",
    "with open('keng_decision_tree.json', 'r') as f:\n",
    "    input_data = json.load(f)\n",
    "\n",
    "feature_names = input_data['feature_names']\n",
    "input_parameters = np.array(input_data['input_parameters'])\n",
    "\n",
    "# Define the tree structure\n",
    "children_left = np.array([1, 3, 5, -1, 7, 9, 11, 13, 15, -1, -1, -1, 17, -1, -1, -1, -1, -1, -1])\n",
    "children_right = np.array([2, 4, 6, -1, 8, 10, 12, 14, 16, -1, -1, -1, 18, -1, -1, -1, -1, -1, -1])\n",
    "feature = np.array([0, 1, 2, -1, 0, 4, 3, 3, 5, -1, -1, -1, 6, -1, -1, -1, -1, -1, -1])\n",
    "threshold = np.array([0.315, 0.5, 982.6, -1, 0.14, 9265.0, 0.5, 1.5, 20.15, -1, -1, -1, 58.5, -1, -1, -1, -1, -1, -1])\n",
    "value = np.array([[55, 32], [43, 13], [12, 19], [3, 4], [40, 9], [7, 3], [5, 16], [6, 5], [34, 4], [6, 1], [1, 2], [3, 2], [2, 14], [5, 1], [1, 4], [3, 2], [31, 2], [2, 4], [0, 10]])\n",
    "impurity = np.array([0.465, 0.357, 0.475, 0.49, 0.3, 0.42, 0.363, 0.496, 0.188, 0.245, 0.444, 0.48, 0.219, 0.278, 0.32, 0.48, 0.114, 0.444, 0, 0])\n",
    "weighted_n_node_samples = np.array([87, 56, 31, 7, 49, 10, 21, 11, 38, 7, 3, 5, 16, 6, 5, 5, 33, 6, 10])\n",
    "n_node_samples = np.array([87, 56, 31, 7, 49, 10, 21, 11, 38, 7, 3, 5, 16, 6, 5, 5, 33, 6, 10])\n",
    "\n",
    "clf = SimpleDecisionTreeClassifier(\n",
    "    children_left, children_right, feature, threshold, value, impurity, weighted_n_node_samples, n_node_samples\n",
    ")\n",
    "\n",
    "class_names = ['Survival', 'Dead']\n",
    "\n",
    "prediction = clf.predict(input_parameters)\n",
    "predicted_class = class_names[prediction[0]]\n",
    "\n",
    "#! This is a list of differing patients with different parameters, meant to test the decision tree model.\n",
    "#! Feel welcome to play around with your inputs.\n",
    "\n",
    "# CASE 1: DEAD - [0.2, 0.4, 1000, 0.3, 9000, 25, 55]\n",
    "# CASE 2: SURVIVAL - [0.6, 0.4, 980, 0.3, 9200, 25, 55] \n",
    "# CASE 3: DEAD - [0.6, 0.4, 960, 0.3, 10000, 25, 55]\n",
    "# CASE 4: SURVIVAL - [0.6, 0.4, 1000, 0.3, 9000, 25, 55]\n",
    "# CASE 5: SURVIVAL - [0.1, 0.6, 1000, 0.1, 9000, 25, 55] \n",
    "# CASE 6: DEAD - [0.1, 0.6, 1000, 3, 9000, 25, 55] \n",
    "# CASE 7: SURVIVAL - [0.2, 0.6, 1000, 0.3, 9000, 20, 55]\n",
    "# CASE 8: SURVIVAL - [0.2, 0.6, 1000, 0.3, 9000, 25, 55] \n",
    "# CASE 9: DEAD - [0.6, 0.4, 1000, 0.6, 9000, 25, 55]\n",
    "# CASE 10: DEAD - [0.6, 0.4, 1000, 0.6, 9000, 25, 65]\n",
    "\n",
    "print(f\"Prediction: {predicted_class}\")\n"
   ]
  }
 ],
 "metadata": {
  "kernelspec": {
   "display_name": "Python 3",
   "language": "python",
   "name": "python3"
  },
  "language_info": {
   "codemirror_mode": {
    "name": "ipython",
    "version": 3
   },
   "file_extension": ".py",
   "mimetype": "text/x-python",
   "name": "python",
   "nbconvert_exporter": "python",
   "pygments_lexer": "ipython3",
   "version": "3.11.4"
  }
 },
 "nbformat": 4,
 "nbformat_minor": 2
}
