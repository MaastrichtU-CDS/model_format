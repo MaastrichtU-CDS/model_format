{
 "cells": [
  {
   "cell_type": "code",
   "execution_count": 9,
   "metadata": {},
   "outputs": [
    {
     "ename": "ModuleNotFoundError",
     "evalue": "No module named 'skl2onnx'",
     "output_type": "error",
     "traceback": [
      "\u001b[0;31m---------------------------------------------------------------------------\u001b[0m",
      "\u001b[0;31mModuleNotFoundError\u001b[0m                       Traceback (most recent call last)",
      "Cell \u001b[0;32mIn[9], line 3\u001b[0m\n\u001b[1;32m      1\u001b[0m \u001b[38;5;28;01mimport\u001b[39;00m \u001b[38;5;21;01mnumpy\u001b[39;00m \u001b[38;5;28;01mas\u001b[39;00m \u001b[38;5;21;01mnp\u001b[39;00m\n\u001b[1;32m      2\u001b[0m \u001b[38;5;28;01mfrom\u001b[39;00m \u001b[38;5;21;01msklearn\u001b[39;00m\u001b[38;5;21;01m.\u001b[39;00m\u001b[38;5;21;01mlinear_model\u001b[39;00m \u001b[38;5;28;01mimport\u001b[39;00m LinearRegression\n\u001b[0;32m----> 3\u001b[0m \u001b[38;5;28;01mfrom\u001b[39;00m \u001b[38;5;21;01mskl2onnx\u001b[39;00m \u001b[38;5;28;01mimport\u001b[39;00m convert_sklearn\n\u001b[1;32m      4\u001b[0m \u001b[38;5;28;01mfrom\u001b[39;00m \u001b[38;5;21;01mskl2onnx\u001b[39;00m\u001b[38;5;21;01m.\u001b[39;00m\u001b[38;5;21;01mcommon\u001b[39;00m\u001b[38;5;21;01m.\u001b[39;00m\u001b[38;5;21;01mdata_types\u001b[39;00m \u001b[38;5;28;01mimport\u001b[39;00m FloatTensorType\n\u001b[1;32m      5\u001b[0m \u001b[38;5;28;01mimport\u001b[39;00m \u001b[38;5;21;01monnxruntime\u001b[39;00m \u001b[38;5;28;01mas\u001b[39;00m \u001b[38;5;21;01mrt\u001b[39;00m\n",
      "\u001b[0;31mModuleNotFoundError\u001b[0m: No module named 'skl2onnx'"
     ]
    }
   ],
   "source": [
    "import numpy as np\n",
    "from sklearn.linear_model import LinearRegression\n",
    "from skl2onnx import convert_sklearn\n",
    "from skl2onnx.common.data_types import FloatTensorType\n",
    "import onnxruntime as rt\n",
    "\n",
    "# Create LinearRegression models for each scoring function\n",
    "def create_model(coefficients, intercept=0):\n",
    "    model = LinearRegression()\n",
    "    model.coef_ = np.array(coefficients)\n",
    "    model.intercept_ = intercept\n",
    "    return model\n",
    "\n",
    "clinical_model = create_model([2.08, 1.08, 0.85, 0.78])\n",
    "radiomic_model = create_model([0.78, 3.14])\n",
    "combined_model = create_model([1.88, 0.93, 0.91, 0.71, 2.44])\n",
    "\n",
    "# Convert models to ONNX\n",
    "def convert_to_onnx(model, input_dim, name):\n",
    "    initial_type = [('float_input', FloatTensorType([None, input_dim]))]\n",
    "    onx = convert_sklearn(model, initial_types=initial_type, target_opset=12)\n",
    "    with open(f\"{name}.onnx\", \"wb\") as f:\n",
    "        f.write(onx.SerializeToString())\n",
    "\n",
    "convert_to_onnx(clinical_model, 4, \"clinical_model\")\n",
    "convert_to_onnx(radiomic_model, 2, \"radiomic_model\")\n",
    "convert_to_onnx(combined_model, 5, \"combined_model\")\n",
    "\n",
    "# Function to run ONNX model\n",
    "def run_onnx_model(model_path, input_data):\n",
    "    sess = rt.InferenceSession(model_path)\n",
    "    input_name = sess.get_inputs()[0].name\n",
    "    label_name = sess.get_outputs()[0].name\n",
    "    pred_onx = sess.run([label_name], {input_name: input_data.reshape(1, -1).astype(np.float32)})[0]\n",
    "    return pred_onx[0][0]\n",
    "\n",
    "# Example for a single patient\n",
    "gender = 1  # 1 for male, 0 for female\n",
    "t_stage = 1  # 1 for T3-T4, 0 for T1-T2\n",
    "n_stage = 1  # 1 for N2-N3, 0 for N1\n",
    "who_ps = 0  # 1 for WHO PS 1-3, 0 for WHO PS 0\n",
    "lalln = 2.5  # example value in cm\n",
    "corre_glcm = 0.6  # example value\n",
    "\n",
    "# Calculate scores using ONNX models\n",
    "clinical_score = run_onnx_model(\"clinical_model.onnx\", np.array([gender, t_stage, n_stage, who_ps]))\n",
    "radiomic_score = run_onnx_model(\"radiomic_model.onnx\", np.array([lalln, corre_glcm]))\n",
    "combined_score = run_onnx_model(\"combined_model.onnx\", np.array([gender, t_stage, who_ps, lalln, corre_glcm]))\n",
    "\n",
    "print(f\"Clinical Score: {clinical_score:.2f}\")\n",
    "print(f\"Radiomic Score: {radiomic_score:.2f}\")\n",
    "print(f\"Combined Score: {combined_score:.2f}\")"
   ]
  }
 ],
 "metadata": {
  "kernelspec": {
   "display_name": "Python 3",
   "language": "python",
   "name": "python3"
  },
  "language_info": {
   "codemirror_mode": {
    "name": "ipython",
    "version": 3
   },
   "file_extension": ".py",
   "mimetype": "text/x-python",
   "name": "python",
   "nbconvert_exporter": "python",
   "pygments_lexer": "ipython3",
   "version": "3.12.7"
  }
 },
 "nbformat": 4,
 "nbformat_minor": 2
}
