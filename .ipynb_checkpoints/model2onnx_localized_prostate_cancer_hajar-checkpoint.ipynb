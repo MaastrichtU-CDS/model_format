{
 "cells": [
  {
   "cell_type": "code",
   "execution_count": null,
   "metadata": {},
   "outputs": [
    {
     "ename": "",
     "evalue": "",
     "output_type": "error",
     "traceback": [
      "\u001b[1;31mRunning cells with 'Python 3.12.4' requires the ipykernel package.\n",
      "\u001b[1;31mRun the following command to install 'ipykernel' into the Python environment. \n",
      "\u001b[1;31mCommand: '/opt/homebrew/bin/python3 -m pip install ipykernel -U --user --force-reinstall'"
     ]
    }
   ],
   "source": [
    "from sklearn.linear_model import LogisticRegression\n",
    "from sklearn.ensemble import RandomForestClassifier\n",
    "from sklearn.svm import SVC\n",
    "import numpy as np\n",
    "import pandas as pd\n",
    "from skl2onnx import to_onnx\n",
    "from skl2onnx.common.data_types import FloatTensorType\n"
   ]
  },
  {
   "cell_type": "code",
   "execution_count": null,
   "metadata": {},
   "outputs": [],
   "source": [
    "# Example intercepts and coefficients for Logistic Regression\n",
    "intercept_1_year = -0.5  # Example value for year 1\n",
    "coefficients_1_year = np.array([0.1, -0.2, 0.3, 0.4, -0.1, 0.5, -0.3, 0.2, -0.4, 0.6])  # Example values\n",
    "\n",
    "intercept_2_year = -0.3  # Example value for year 2\n",
    "coefficients_2_year = np.array([-0.1, 0.2, -0.3, 0.4, -0.5, 0.6, -0.2, 0.1, 0.3, -0.4])  # Example values\n",
    "\n",
    "# Feature names based on the document\n",
    "feature_names = [\"BMI\", \"WeightLoss\", \"TF\", \"PS\", \"Tumorlocation\", \"Tclassification\", \n",
    "                 \"Nclassification\", \"Systherapy\", \"RTdose_subman\", \"RTdosesalivary\"]\n"
   ]
  },
  {
   "cell_type": "code",
   "execution_count": null,
   "metadata": {},
   "outputs": [],
   "source": [
    "# Year 1 Logistic Regression\n",
    "lr_1_year = LogisticRegression()\n",
    "lr_1_year.intercept_ = np.array([intercept_1_year])\n",
    "lr_1_year.coef_ = np.array([coefficients_1_year])\n",
    "lr_1_year.feature_names_in_ = feature_names\n",
    "lr_1_year.classes_ = np.array([0, 1])  # Binary classification\n",
    "\n",
    "# Year 2 Logistic Regression\n",
    "lr_2_year = LogisticRegression()\n",
    "lr_2_year.intercept_ = np.array([intercept_2_year])\n",
    "lr_2_year.coef_ = np.array([coefficients_2_year])\n",
    "lr_2_year.feature_names_in_ = feature_names\n",
    "lr_2_year.classes_ = np.array([0, 1])  # Binary classification\n"
   ]
  },
  {
   "cell_type": "code",
   "execution_count": null,
   "metadata": {},
   "outputs": [],
   "source": [
    "# Year 1 Random Forest\n",
    "rf_1_year = RandomForestClassifier(n_estimators=100, max_depth=5, random_state=42)  # Configure as per your study details\n",
    "rf_1_year.feature_names_in_ = feature_names\n",
    "rf_1_year.classes_ = np.array([0, 1])  # Binary classification\n",
    "\n",
    "# Year 2 Random Forest\n",
    "rf_2_year = RandomForestClassifier(n_estimators=100, max_depth=5, random_state=42)  # Configure as per your study details\n",
    "rf_2_year.feature_names_in_ = feature_names\n",
    "rf_2_year.classes_ = np.array([0, 1])  # Binary classification\n"
   ]
  },
  {
   "cell_type": "code",
   "execution_count": null,
   "metadata": {},
   "outputs": [],
   "source": [
    "# Year 1 Support Vector Machine\n",
    "svm_1_year = SVC(probability=True, kernel='linear')  # Configure as per your study details\n",
    "svm_1_year.feature_names_in_ = feature_names\n",
    "svm_1_year.classes_ = np.array([0, 1])  # Binary classification\n",
    "\n",
    "# Year 2 Support Vector Machine\n",
    "svm_2_year = SVC(probability=True, kernel='linear')  # Configure as per your study details\n",
    "svm_2_year.feature_names_in_ = feature_names\n",
    "svm_2_year.classes_ = np.array([0, 1])  # Binary classification\n"
   ]
  },
  {
   "cell_type": "code",
   "execution_count": null,
   "metadata": {},
   "outputs": [],
   "source": [
    "# Function to infer initial types for ONNX conversion\n",
    "def infer_initial_types():\n",
    "    return [('input', FloatTensorType([None, 10]))]  # Assuming 10 features\n",
    "\n",
    "# Assign infer initial types to each model\n",
    "lr_1_year.infer_initial_types = infer_initial_types\n",
    "lr_2_year.infer_initial_types = infer_initial_types\n",
    "rf_1_year.infer_initial_types = infer_initial_types\n",
    "rf_2_year.infer_initial_types = infer_initial_types\n",
    "svm_1_year.infer_initial_types = infer_initial_types\n",
    "svm_2_year.infer_initial_types = infer_initial_types\n"
   ]
  },
  {
   "cell_type": "code",
   "execution_count": null,
   "metadata": {},
   "outputs": [],
   "source": [
    "# Convert each model to ONNX format\n",
    "lr_1_year_onnx = to_onnx(lr_1_year, initial_types=lr_1_year.infer_initial_types())\n",
    "lr_2_year_onnx = to_onnx(lr_2_year, initial_types=lr_2_year.infer_initial_types())\n",
    "rf_1_year_onnx = to_onnx(rf_1_year, initial_types=rf_1_year.infer_initial_types())\n",
    "rf_2_year_onnx = to_onnx(rf_2_year, initial_types=rf_2_year.infer_initial_types())\n",
    "svm_1_year_onnx = to_onnx(svm_1_year, initial_types=svm_1_year.infer_initial_types())\n",
    "svm_2_year_onnx = to_onnx(svm_2_year, initial_types=svm_2_year.infer_initial_types())\n"
   ]
  },
  {
   "cell_type": "code",
   "execution_count": null,
   "metadata": {},
   "outputs": [],
   "source": [
    "# Save ONNX models to files\n",
    "with open(\"lr_1_year.onnx\", \"wb\") as f:\n",
    "    f.write(lr_1_year_onnx.SerializeToString())\n",
    "\n",
    "with open(\"lr_2_year.onnx\", \"wb\") as f:\n",
    "    f.write(lr_2_year_onnx.SerializeToString())\n",
    "\n",
    "with open(\"rf_1_year.onnx\", \"wb\") as f:\n",
    "    f.write(rf_1_year_onnx.SerializeToString())\n",
    "\n",
    "with open(\"rf_2_year.onnx\", \"wb\") as f:\n",
    "    f.write(rf_2_year_onnx.SerializeToString())\n",
    "\n",
    "with open(\"svm_1_year.onnx\", \"wb\") as f:\n",
    "    f.write(svm_1_year_onnx.SerializeToString())\n",
    "\n",
    "with open(\"svm_2_year.onnx\", \"wb\") as f:\n",
    "    f.write(svm_2_year_onnx.SerializeToString())\n",
    "\n",
    "print(\"Models successfully converted and saved in ONNX format.\")\n"
   ]
  }
 ],
 "metadata": {
  "kernelspec": {
   "display_name": "Python 3",
   "language": "python",
   "name": "python3"
  },
  "language_info": {
   "codemirror_mode": {
    "name": "ipython",
    "version": 3
   },
   "file_extension": ".py",
   "mimetype": "text/x-python",
   "name": "python",
   "nbconvert_exporter": "python",
   "pygments_lexer": "ipython3",
   "version": "3.12.4"
  }
 },
 "nbformat": 4,
 "nbformat_minor": 2
}
