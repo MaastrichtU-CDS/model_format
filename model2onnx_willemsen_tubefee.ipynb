{
 "cells": [
  {
   "cell_type": "code",
   "execution_count": 15,
   "metadata": {
    "colab": {
     "base_uri": "https://localhost:8080/"
    },
    "id": "V6FAwT0Vi-P1",
    "outputId": "f654c4fe-c873-447c-817c-143aa2045ca3"
   },
   "outputs": [],
   "source": [
    "#! pip install skl2onnx onnxruntime"
   ]
  },
  {
   "cell_type": "code",
   "execution_count": 28,
   "metadata": {
    "colab": {
     "base_uri": "https://localhost:8080/"
    },
    "id": "0ATWQ-zCQ3jH",
    "outputId": "69414cc8-e4f6-4a2e-bbb2-1084a032840a"
   },
   "outputs": [
    {
     "name": "stdout",
     "output_type": "stream",
     "text": [
      "LogisticRegression()\n"
     ]
    }
   ],
   "source": [
    "from sklearn.linear_model import LogisticRegression\n",
    "import numpy as np\n",
    "import pandas as pd\n",
    "from skl2onnx.common.data_types import FloatTensorType, Int64TensorType\n",
    "\n",
    "# Define intercept and coefficients\n",
    "# from https://www.predictcancer.ai/Main.php?page=TFDInfo and https://doi.org/10.1016/j.clnu.2019.11.033 \n",
    "intercept = -0.506\n",
    "coefficients = np.array([-0.042, -0.030, 0.452, 0.608, -0.510, 0.311, 0.561, -0.655, 0.015, 0.042])  \n",
    "# Coefficients for features:\n",
    "# BMI - pretreatment weight change - modified diet or tube feeding (TF) [yes=1]) - WHO performance scale (PS) [WHO>0=1]) \n",
    "# tumor location [oral cavity, oropharynx and hypopharynx = 1]) - Tumor classification [T2, T3, or T4 = 1] \n",
    "# Node classification [N2 or N3 = 1] - systemic therapy [Cetuximab = 1] - \n",
    "# mean RT dose on contralateral submandibular gland [Gy] - mean RT dose on contralateral parotid salivary gland [Gy]\n",
    "\n",
    "\n",
    "# Create logistic regression object\n",
    "log_reg = LogisticRegression()\n",
    "\n",
    "# Assign manually defined intercept and coefficients\n",
    "log_reg.intercept_ = np.array([intercept])\n",
    "log_reg.coef_ = np.array([coefficients])\n",
    "log_reg.feature_names_in_ = [\"BMI\", \"WeightLoss\", \"TF\", \"PS\", \"Tumorlocation\", \"Tclassification\",\n",
    "                            \"Nclassification\", \"Systherapy\", \"RTdose_subman\", \"RTdosesalivary\"]\n",
    "\n",
    "def infer_initial_types():\n",
    "  return [\n",
    "      ('input', FloatTensorType([None, 10])) # you need to specify the amount of variables\n",
    "  ]\n",
    "\n",
    "log_reg.infer_initial_types = infer_initial_types\n",
    "\n",
    "# Manually set the classes_\n",
    "log_reg.classes_ = np.array([0, 1])  # binary task Example classes, replace with your actual classes if needed\n",
    "\n",
    "\n",
    "# You may also need to set other parameters like solver and penalty\n",
    "# log_reg.penalty = 'l2'\n",
    "# log_reg.solver = 'liblinear'\n",
    "\n",
    "# Now your logistic regression model is set with the provided intercept and coefficients\n",
    "print(log_reg)\n",
    "# print(log_reg.feature_names_in_)"
   ]
  },
  {
   "cell_type": "code",
   "execution_count": 30,
   "metadata": {
    "colab": {
     "base_uri": "https://localhost:8080/"
    },
    "id": "IfaUpFvySuU0",
    "outputId": "5a2ca779-cd1d-4a9c-d47a-e245de223a16"
   },
   "outputs": [
    {
     "data": {
      "text/plain": [
       "array([[0.18437244, 0.81562756]])"
      ]
     },
     "execution_count": 30,
     "metadata": {},
     "output_type": "execute_result"
    }
   ],
   "source": [
    "# print(log_reg.predict(np.array([1,0,1]).reshape(1, -1)))\n",
    "prediction_dict = [{\"BMI\":19.5, \"WeightLoss\":-8, \"TF\":1, \"PS\":0, \n",
    "                                                       \"Tumorlocation\":1, \"Tclassification\":1,\n",
    "                                                       \"Nclassification\":1, \"Systherapy\":0, \n",
    "                                                       \"RTdose_subman\":36, \"RTdosesalivary\":29}]\n",
    "log_reg.predict_proba(pd.DataFrame(prediction_dict))"
   ]
  },
  {
   "cell_type": "code",
   "execution_count": 32,
   "metadata": {
    "id": "fJRDAAujuFIG"
   },
   "outputs": [
    {
     "name": "stdout",
     "output_type": "stream",
     "text": [
      "success\n"
     ]
    }
   ],
   "source": [
    "# Convert into ONNX format.\n",
    "from skl2onnx import to_onnx\n",
    "\n",
    "onx = to_onnx(log_reg, initial_types=log_reg.infer_initial_types())\n",
    "with open(\"willemsen_tubefeed.onnx\", \"wb\") as f:\n",
    "    f.write(onx.SerializeToString())\n",
    "    print('success')"
   ]
  },
  {
   "cell_type": "code",
   "execution_count": 34,
   "metadata": {
    "colab": {
     "base_uri": "https://localhost:8080/"
    },
    "id": "ScuM07s2j25I",
    "outputId": "0003b6c1-b2e0-47a3-c4ef-19332c5c68bc"
   },
   "outputs": [
    {
     "data": {
      "text/plain": [
       "{0: 0.1843724548816681, 1: 0.8156275749206543}"
      ]
     },
     "execution_count": 34,
     "metadata": {},
     "output_type": "execute_result"
    }
   ],
   "source": [
    "## Read ONNX file, and perform prediction\n",
    "\n",
    "import onnxruntime as ort\n",
    "import numpy as np\n",
    "ort_sess = ort.InferenceSession(\"willemsen_tubefeed.onnx\")\n",
    "outputs = ort_sess.run(None, {'input': [[19.5,-8,1,0,1,1,1,0,36,29]]})\n",
    "\n",
    "# Print Result\n",
    "outputs[1][0]"
   ]
  },
  {
   "cell_type": "code",
   "execution_count": null,
   "metadata": {},
   "outputs": [],
   "source": []
  }
 ],
 "metadata": {
  "colab": {
   "provenance": []
  },
  "kernelspec": {
   "display_name": "ONNX_try",
   "language": "python",
   "name": "onnx_try"
  },
  "language_info": {
   "codemirror_mode": {
    "name": "ipython",
    "version": 3
   },
   "file_extension": ".py",
   "mimetype": "text/x-python",
   "name": "python",
   "nbconvert_exporter": "python",
   "pygments_lexer": "ipython3",
   "version": "3.11.9"
  }
 },
 "nbformat": 4,
 "nbformat_minor": 4
}
