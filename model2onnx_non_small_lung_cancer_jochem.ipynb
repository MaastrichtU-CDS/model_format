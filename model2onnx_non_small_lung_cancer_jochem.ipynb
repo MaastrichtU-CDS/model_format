{
 "cells": [
  {
   "cell_type": "code",
   "execution_count": null,
   "metadata": {},
   "outputs": [],
   "source": [
    "import numpy as np\n",
    "from sklearn.ensemble import RandomForestClassifier\n",
    "from skl2onnx import convert_sklearn\n",
    "from skl2onnx.common.data_types import FloatTensorType\n",
    "\n",
    "# Dummy data representing the features used in the model\n",
    "X_dummy = np.random.rand(100, 7)  # Assuming we have 7 features as listed above\n",
    "\n",
    "# Create a random forest model (as a placeholder)\n",
    "model = RandomForestClassifier(n_estimators=100, max_depth=5)\n",
    "\n",
    "# Train the model with dummy data (since we don't have the original training data)\n",
    "y_dummy = np.random.randint(2, size=100)  # Binary classification\n",
    "model.fit(X_dummy, y_dummy)\n",
    "\n",
    "# Convert the model to ONNX format\n",
    "initial_type = [('float_input', FloatTensorType([None, X_dummy.shape[1]]))]\n",
    "onnx_model = convert_sklearn(model, initial_types=initial_type)\n",
    "\n",
    "# Save the model\n",
    "with open(\"random_forest_model.onnx\", \"wb\") as f:\n",
    "    f.write(onnx_model.SerializeToString())\n"
   ]
  }
 ],
 "metadata": {
  "language_info": {
   "name": "python"
  }
 },
 "nbformat": 4,
 "nbformat_minor": 2
}
